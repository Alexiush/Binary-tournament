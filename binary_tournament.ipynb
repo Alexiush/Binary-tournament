{
 "cells": [
  {
   "attachments": {},
   "cell_type": "markdown",
   "metadata": {},
   "source": [
    "# Tournaments playground"
   ]
  },
  {
   "cell_type": "code",
   "execution_count": 192,
   "metadata": {},
   "outputs": [],
   "source": [
    "import math\n",
    "import numpy as np\n",
    "\n",
    "import typing\n",
    "from collections.abc import Sequence, Callable\n",
    "\n",
    "from qiskit import Aer\n",
    "from qiskit import QuantumCircuit"
   ]
  },
  {
   "attachments": {},
   "cell_type": "markdown",
   "metadata": {},
   "source": [
    "Initially, I just wondered about common usage of single elimination tournament in games. The reason is that it just puts you in a group of top-2^n rather than creates a properly enumerated leaderboard. Though, both tournaments are not fair, I find the latter more satisfying as well as the algorithm behind it.\n",
    "\n",
    "P.S. Tournaments here are only for 2^n players, without scores and draws, only wins and losses.\n",
    "\n",
    "P.P.S. I'm not good with python type hints, they can be not absolutely right, but I don't think they are misleading"
   ]
  },
  {
   "cell_type": "code",
   "execution_count": 193,
   "metadata": {},
   "outputs": [],
   "source": [
    "def count_check(participants):\n",
    "    participants_count = len(participants)\n",
    "    log2_count = math.log2(participants_count)\n",
    "\n",
    "    if log2_count % 1 != 0:\n",
    "        raise Exception(\"Participants count must be equal to the power of two\")\n",
    "    \n",
    "    return participants_count, log2_count"
   ]
  },
  {
   "cell_type": "code",
   "execution_count": 194,
   "metadata": {},
   "outputs": [],
   "source": [
    "def binary_tournament(participants: Sequence[object], comparator: Callable[[object, object], bool], verbose: bool = False) -> Sequence[object]:\n",
    "    _, log2_count = count_check(participants)\n",
    "    \n",
    "    scores_binary = dict(zip(participants, [\"\" for _ in participants]))\n",
    "    rounds_count = int(log2_count) \n",
    "\n",
    "    for round in range(rounds_count):\n",
    "        if verbose:\n",
    "            print(f\"Round {round + 1}\")\n",
    "            print(f\"Start scores: {scores_binary}\")\n",
    "        \n",
    "        pairs = []\n",
    "        pairs_checklist = set()\n",
    "\n",
    "        for participant in participants:\n",
    "            if participant in pairs_checklist:\n",
    "                continue\n",
    "\n",
    "            pairs_checklist.add(participant)\n",
    "            score = scores_binary[participant]\n",
    "            \n",
    "            pair = next(p[0] for p in scores_binary.items() if score == p[1] and p[0] not in pairs_checklist)\n",
    "            pairs_checklist.add(pair)\n",
    "            pairs.append((participant, pair))\n",
    "        \n",
    "        if verbose:\n",
    "            print(f\"Assigned pairs: {pairs}\")\n",
    "\n",
    "        for pair in pairs:\n",
    "            first_won = comparator(pair[0], pair[1])\n",
    "\n",
    "            scores_binary[pair[0]] += str(int(first_won))\n",
    "            scores_binary[pair[1]] += str(int(not first_won))\n",
    "\n",
    "    scores_decimal = dict((p[0], int(p[1], 2)) for p in scores_binary.items())\n",
    "    leaderboard = sorted(participants, key=lambda p: scores_decimal[p], reverse=True)\n",
    "\n",
    "    if verbose:\n",
    "        print()\n",
    "        print(f\"Final scores: {scores_binary}\")\n",
    "        print(f\"Tournament results: {leaderboard}\")\n",
    "\n",
    "    return leaderboard"
   ]
  },
  {
   "cell_type": "code",
   "execution_count": 195,
   "metadata": {},
   "outputs": [
    {
     "name": "stdout",
     "output_type": "stream",
     "text": [
      "Round 1\n",
      "Start scores: {0: '', 1: '', 2: '', 3: '', 4: '', 5: '', 6: '', 7: ''}\n",
      "Assigned pairs: [(0, 1), (2, 3), (4, 5), (6, 7)]\n",
      "Round 2\n",
      "Start scores: {0: '0', 1: '1', 2: '0', 3: '1', 4: '0', 5: '1', 6: '0', 7: '1'}\n",
      "Assigned pairs: [(0, 2), (1, 3), (4, 6), (5, 7)]\n",
      "Round 3\n",
      "Start scores: {0: '00', 1: '10', 2: '01', 3: '11', 4: '00', 5: '10', 6: '01', 7: '11'}\n",
      "Assigned pairs: [(0, 4), (1, 5), (2, 6), (3, 7)]\n",
      "\n",
      "Final scores: {0: '000', 1: '100', 2: '010', 3: '110', 4: '001', 5: '101', 6: '011', 7: '111'}\n",
      "Tournament results: [7, 3, 5, 1, 6, 2, 4, 0]\n"
     ]
    },
    {
     "data": {
      "text/plain": [
       "[7, 3, 5, 1, 6, 2, 4, 0]"
      ]
     },
     "execution_count": 195,
     "metadata": {},
     "output_type": "execute_result"
    }
   ],
   "source": [
    "comparator = lambda x, y: x > y\n",
    "\n",
    "participants = range(8)\n",
    "binary_tournament(list(participants), comparator, verbose=True)"
   ]
  },
  {
   "cell_type": "code",
   "execution_count": 196,
   "metadata": {},
   "outputs": [
    {
     "name": "stdout",
     "output_type": "stream",
     "text": [
      "Round 1\n",
      "Start scores: {1: '', 7: '', 16: '', 0: '', 3: '', 5: '', 12: '', 223: ''}\n",
      "Assigned pairs: [(1, 7), (16, 0), (3, 5), (12, 223)]\n",
      "Round 2\n",
      "Start scores: {1: '0', 7: '1', 16: '1', 0: '0', 3: '0', 5: '1', 12: '0', 223: '1'}\n",
      "Assigned pairs: [(1, 0), (7, 16), (3, 12), (5, 223)]\n",
      "Round 3\n",
      "Start scores: {1: '01', 7: '10', 16: '11', 0: '00', 3: '00', 5: '10', 12: '01', 223: '11'}\n",
      "Assigned pairs: [(1, 12), (7, 5), (16, 223), (0, 3)]\n",
      "\n",
      "Final scores: {1: '010', 7: '101', 16: '110', 0: '000', 3: '001', 5: '100', 12: '011', 223: '111'}\n",
      "Tournament results: [223, 16, 7, 5, 12, 1, 3, 0]\n"
     ]
    },
    {
     "data": {
      "text/plain": [
       "[223, 16, 7, 5, 12, 1, 3, 0]"
      ]
     },
     "execution_count": 196,
     "metadata": {},
     "output_type": "execute_result"
    }
   ],
   "source": [
    "participants = (1, 7, 16, 0, 3, 5, 12, 223)\n",
    "binary_tournament(list(participants), comparator, verbose=True)"
   ]
  },
  {
   "attachments": {},
   "cell_type": "markdown",
   "metadata": {},
   "source": [
    "## Binary tournament \n",
    "\n",
    "So here is how it works:\n",
    "\n",
    "1. For each participant let's get a score label, before the first round it would be empty\n",
    "2. When the round starts participants with the same labels get paired\n",
    "3. After matches (comparisons) are finished match result is added to participant's label: 1 for win and 0 for lose\n",
    "\n",
    "2 and 3 repeat until it was log2(N) rounds, by that time each score becomes unique and the most brilliant part: the score is the reverse of the place in binary\n",
    " \n",
    "The thing is that instead of throwing off participants who were eliminated, we continue the tournament, but in separate groups: losers and the winners.\n",
    "And the label identifies them explicitly. It also can be done implicitly through recursive splitting and merging the groups, but I find this example more representative. Anyway next code cell also implements an efficient version.\n",
    "\n",
    "As I understand it's a variation on a [swiss tournament system](https://en.wikipedia.org/wiki/Swiss-system_tournament). I call this a *binary tournament*."
   ]
  },
  {
   "cell_type": "code",
   "execution_count": 197,
   "metadata": {},
   "outputs": [],
   "source": [
    "def binary_tournament_efficient(participants: Sequence[object], comparator: Callable[[object, object], bool]) -> Sequence[object]:\n",
    "    count_check(participants)\n",
    "\n",
    "    # actual bottleneck of the previous implementation is need to search by label, \n",
    "    # this implementation can just iterate on list and does not need labels\n",
    "\n",
    "    def binary_tournament_aux(participants: Sequence[object]) -> Sequence[object]:\n",
    "        winners = []\n",
    "        losers = []\n",
    "\n",
    "        for pair in range(len(participants) // 2):\n",
    "            first = participants[pair * 2]\n",
    "            second = participants[pair * 2 + 1]\n",
    "\n",
    "            first_won = comparator(first, second)\n",
    "            winners.append(first if first_won else second)\n",
    "            losers.append(second if first_won else first)\n",
    "\n",
    "        if len(participants) == 2:\n",
    "            return winners + losers\n",
    "        else:\n",
    "            return binary_tournament_aux(winners) + binary_tournament_aux(losers)\n",
    "\n",
    "    return binary_tournament_aux(participants)"
   ]
  },
  {
   "cell_type": "code",
   "execution_count": 198,
   "metadata": {},
   "outputs": [
    {
     "data": {
      "text/plain": [
       "[7, 3, 5, 1, 6, 2, 4, 0]"
      ]
     },
     "execution_count": 198,
     "metadata": {},
     "output_type": "execute_result"
    }
   ],
   "source": [
    "comparator = lambda x, y: x > y\n",
    "\n",
    "participants = range(8)\n",
    "binary_tournament_efficient(list(participants), comparator)"
   ]
  },
  {
   "cell_type": "code",
   "execution_count": 199,
   "metadata": {},
   "outputs": [
    {
     "data": {
      "text/plain": [
       "[223, 16, 7, 5, 12, 1, 3, 0]"
      ]
     },
     "execution_count": 199,
     "metadata": {},
     "output_type": "execute_result"
    }
   ],
   "source": [
    "\n",
    "participants = (1, 7, 16, 0, 3, 5, 12, 223)\n",
    "binary_tournament_efficient(list(participants), comparator)"
   ]
  },
  {
   "attachments": {},
   "cell_type": "markdown",
   "metadata": {},
   "source": [
    "## Quantum binary tournament\n",
    "\n",
    "But let's play with tournaments a bit more.\n",
    "\n",
    "Another topic is tournament outcome calculation being complex enough to be considered a blackbox function - only way to know if somebody will win is to measure the outcome. Yes, we go quantum. \n",
    "\n",
    "What I'm interested in is augmenting the binary tournament with quantum circuits and any potential benefits of it.\n",
    "\n",
    "As we are operating binary strings I find [Bernstein-Vazirani algorithm](https://learn.qiskit.org/course/ch-algorithms/bernstein-vazirani-algorithm) especially useful:\n",
    "It allows us to find some hidden binary string s used by given black box function in 1 step.\n",
    "\n",
    "Now let's speculate on which binary string need to be searched and how oracle gets to know it.\n",
    "\n",
    "Our classic algorithm depends on black box comparator, so we can say that instead of comparator we can have black boxes for each matchup with encoded string being an outcome: 01 or 10. However, the comparator is also considered an O(1) operation, so there is no benefit.\n",
    "\n",
    "On the other hand we can expect an ability to fix one of comparator arguments giving us n oracles which are capable of returning n-bit string of matchup results in O(1). So we can build pairwise comparisons matrix in n actions. But how fast can we move from matrix to binary tournament result?"
   ]
  },
  {
   "cell_type": "code",
   "execution_count": 200,
   "metadata": {},
   "outputs": [],
   "source": [
    "def oracle_comparison(participants: Sequence[object], comparator: Callable[[object, object], bool]) -> Sequence[Sequence[bool]]:\n",
    "    def get_hidden_string(participant: object) -> Sequence[bool]:\n",
    "        return [*map(lambda p: str(int(comparator(participant, p))), participants)]\n",
    "    \n",
    "    # based on https://learn.qiskit.org/course/ch-algorithms/bernstein-vazirani-algorithm\n",
    "    def build_oracle(s: str) -> QuantumCircuit:\n",
    "        n = len(s)\n",
    "\n",
    "        bv_circuit = QuantumCircuit(n+1, n)\n",
    "\n",
    "        # put auxiliary in state |->\n",
    "        bv_circuit.h(n)\n",
    "        bv_circuit.z(n)\n",
    "\n",
    "        # Apply Hadamard gates before querying the oracle\n",
    "        for i in range(n):\n",
    "            bv_circuit.h(i)\n",
    "        \n",
    "        # Apply barrier \n",
    "        bv_circuit.barrier()\n",
    "\n",
    "        # Apply the inner-product oracle\n",
    "        s = s[::-1] # reverse s to fit qiskit's qubit ordering\n",
    "        for q in range(n):\n",
    "            if s[q] == '0':\n",
    "                bv_circuit.i(q)\n",
    "            else:\n",
    "                bv_circuit.cx(q, n)\n",
    "\n",
    "        # Apply barrier \n",
    "        bv_circuit.barrier()\n",
    "\n",
    "        #Apply Hadamard gates after querying the oracle\n",
    "        for i in range(n):\n",
    "            bv_circuit.h(i)\n",
    "\n",
    "        # Measurement\n",
    "        for i in range(n):\n",
    "            bv_circuit.measure(i, i)\n",
    "\n",
    "        return bv_circuit\n",
    "\n",
    "    def get_comparisons(bv_circuit: QuantumCircuit, shots = 1024) -> Sequence[bool]:\n",
    "        aer_sim = Aer.get_backend('aer_simulator')\n",
    "        results = aer_sim.run(bv_circuit).result()\n",
    "        counts = results.get_counts()\n",
    "\n",
    "        row = max(counts, key=counts.get)\n",
    "        return [e == '1' for e in row]\n",
    "\n",
    "\n",
    "    hidden_strings = map(lambda p: get_hidden_string(p), participants)\n",
    "    oracles = map(lambda s: build_oracle(s), hidden_strings)\n",
    "    pairwise_comparisons = list(map(lambda o: get_comparisons(o), oracles))\n",
    "\n",
    "    return pairwise_comparisons"
   ]
  },
  {
   "cell_type": "code",
   "execution_count": 201,
   "metadata": {},
   "outputs": [
    {
     "data": {
      "text/plain": [
       "[[False, False, False, False],\n",
       " [True, False, False, False],\n",
       " [True, True, False, False],\n",
       " [True, True, True, False]]"
      ]
     },
     "execution_count": 201,
     "metadata": {},
     "output_type": "execute_result"
    }
   ],
   "source": [
    "participants = range(4)\n",
    "comparator = lambda x, y: x > y\n",
    "\n",
    "oracle_comparison(list(participants), comparator)"
   ]
  },
  {
   "attachments": {},
   "cell_type": "markdown",
   "metadata": {},
   "source": [
    "Apparently, I can't think of a way faster than we needed to build a binary tournament from scratch: O(n log(n)). It can be done by reordering matrix columns and rows according to tournament state and reading the diagonal, supplying a lookup as a comparator to binary tournament, everything else - complexity is the same.  "
   ]
  },
  {
   "cell_type": "code",
   "execution_count": 202,
   "metadata": {},
   "outputs": [],
   "source": [
    "def matrix_reordering(participants: Sequence[object], pairwise_comparisons: Sequence[Sequence[bool]]) -> Sequence[object]:\n",
    "    participants_count, _ = count_check(participants)\n",
    "    matrix = np.array(pairwise_comparisons)\n",
    "\n",
    "    def reordering_aux(indices: Sequence[object]) -> Sequence[object]:\n",
    "        slice = matrix.take(indices, axis=0).take(indices, axis=1)\n",
    "\n",
    "        for pair in range(len(indices) // 2):\n",
    "            first = pair * 2\n",
    "            second = pair * 2 + 1\n",
    "\n",
    "            slice[:, [first, second]] = slice[:, [second, first]]\n",
    "\n",
    "        labels = slice.diagonal()\n",
    "        indices_labeled = list(zip(indices, labels))\n",
    "\n",
    "        winners = [p[0] for p in indices_labeled if p[1]]\n",
    "        losers = [p[0] for p in indices_labeled if not p[1]]\n",
    "\n",
    "        if len(indices) == 2:\n",
    "            return winners + losers\n",
    "        else:\n",
    "            return reordering_aux(winners) + reordering_aux(losers)\n",
    "    \n",
    "    index = reordering_aux(range(participants_count))\n",
    "    return np.array(participants)[index].tolist()"
   ]
  },
  {
   "cell_type": "code",
   "execution_count": 203,
   "metadata": {},
   "outputs": [
    {
     "data": {
      "text/plain": [
       "[7, 3, 5, 1, 6, 2, 4, 0]"
      ]
     },
     "execution_count": 203,
     "metadata": {},
     "output_type": "execute_result"
    }
   ],
   "source": [
    "comparator = lambda x, y: x > y\n",
    "\n",
    "participants = range(8)\n",
    "pairwise_comparisons = oracle_comparison(list(participants), comparator)\n",
    "matrix_reordering(participants, pairwise_comparisons)"
   ]
  },
  {
   "cell_type": "code",
   "execution_count": 204,
   "metadata": {},
   "outputs": [
    {
     "data": {
      "text/plain": [
       "[223, 16, 7, 5, 12, 1, 3, 0]"
      ]
     },
     "execution_count": 204,
     "metadata": {},
     "output_type": "execute_result"
    }
   ],
   "source": [
    "participants = (1, 7, 16, 0, 3, 5, 12, 223)\n",
    "pairwise_comparisons = oracle_comparison(list(participants), comparator)\n",
    "matrix_reordering(participants, pairwise_comparisons)"
   ]
  }
 ],
 "metadata": {
  "kernelspec": {
   "display_name": "base",
   "language": "python",
   "name": "python3"
  },
  "language_info": {
   "codemirror_mode": {
    "name": "ipython",
    "version": 3
   },
   "file_extension": ".py",
   "mimetype": "text/x-python",
   "name": "python",
   "nbconvert_exporter": "python",
   "pygments_lexer": "ipython3",
   "version": "3.9.13"
  },
  "orig_nbformat": 4
 },
 "nbformat": 4,
 "nbformat_minor": 2
}
